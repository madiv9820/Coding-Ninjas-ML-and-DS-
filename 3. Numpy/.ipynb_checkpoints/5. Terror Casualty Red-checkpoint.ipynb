{
 "cells": [
  {
   "cell_type": "markdown",
   "id": "f53e5590",
   "metadata": {},
   "source": [
    "Given file \"terrorismData.csv\"\n",
    "\n",
    "It is an open-source database including information on terrorist attacks around the world from 1970 through 2017. This dataset includes systematic data on domestic as well as international terrorist incidents that have occurred during this time period\n",
    "\n",
    "Problem Statement :\n",
    "Find the casualty in the Red Corridor States ? Mainly Red corridor states include Jharkhand, Odisha, Andhra Pradesh, and Chhattisgarh.\n",
    "\n",
    "Note: Casualty=Killed + Wounded\n",
    "\n",
    "Print count of Casualty as integer value.\n",
    "\n",
    "Output Format :\n",
    "Count"
   ]
  },
  {
   "cell_type": "code",
   "execution_count": 2,
   "id": "e3222cb1",
   "metadata": {},
   "outputs": [
    {
     "name": "stdout",
     "output_type": "stream",
     "text": [
      "5628\n"
     ]
    }
   ],
   "source": [
    "import csv\n",
    "import numpy as np\n",
    "\n",
    "with open('terrorismData.csv') as data:\n",
    "    terrorism_Data = csv.DictReader(data, skipinitialspace = True)\n",
    "    states, killed, wounded = [], [], []\n",
    "    \n",
    "    for row in terrorism_Data:\n",
    "        states.append(row['State'])\n",
    "        killed.append(row['Killed'])\n",
    "        wounded.append(row['Wounded'])\n",
    "        \n",
    "    states = np.array(states)\n",
    "    killed = np.array(killed)\n",
    "    wounded = np.array(wounded)\n",
    "    \n",
    "    killed[killed == ''] = '0.0'\n",
    "    wounded[wounded == ''] = '0.0'\n",
    "    \n",
    "    killed = np.array(np.array(killed, dtype = float), dtype = int)\n",
    "    wounded = np.array(np.array(wounded, dtype = float), dtype = int)\n",
    "    \n",
    "    condition = (states == 'Jharkhand') | (states == 'Odisha') | (states == 'Andhra Pradesh') |(states == 'Chhattisgarh')\n",
    "    print(np.sum(killed[condition] + wounded[condition]))"
   ]
  }
 ],
 "metadata": {
  "kernelspec": {
   "display_name": "Python 3 (ipykernel)",
   "language": "python",
   "name": "python3"
  },
  "language_info": {
   "codemirror_mode": {
    "name": "ipython",
    "version": 3
   },
   "file_extension": ".py",
   "mimetype": "text/x-python",
   "name": "python",
   "nbconvert_exporter": "python",
   "pygments_lexer": "ipython3",
   "version": "3.11.7"
  }
 },
 "nbformat": 4,
 "nbformat_minor": 5
}
