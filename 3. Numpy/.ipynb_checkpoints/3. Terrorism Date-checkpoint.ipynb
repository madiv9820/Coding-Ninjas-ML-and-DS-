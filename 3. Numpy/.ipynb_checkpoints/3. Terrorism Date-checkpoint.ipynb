{
 "cells": [
  {
   "cell_type": "markdown",
   "id": "23861391",
   "metadata": {},
   "source": [
    "Problem statement\n",
    "Given file \"terrorismData.csv\"\n",
    "\n",
    "It is an open-source database including information on terrorist attacks around the world from 1970 through 2017. This dataset includes systematic data on domestic as well as international terrorist incidents that have occurred during this time period\n",
    "\n",
    "Problem Statement :\n",
    "Find the number of attack held between 1 Jan 2010 and 31 Jan 2010?(including both date).\n",
    "\n",
    "Note Ignore the case where day is 0\n",
    "\n",
    "Print count of NumberOFAttack as integer value.\n",
    "\n",
    "Output Format :\n",
    "count"
   ]
  },
  {
   "cell_type": "code",
   "execution_count": 1,
   "id": "76ca6a4c",
   "metadata": {},
   "outputs": [
    {
     "name": "stdout",
     "output_type": "stream",
     "text": [
      "271\n"
     ]
    }
   ],
   "source": [
    "import csv\n",
    "import numpy as np\n",
    "\n",
    "with open('terrorismData.csv') as data:\n",
    "    terrorism_Data = csv.DictReader(data, skipinitialspace = True)\n",
    "    year, month, day = [], [], []\n",
    "    \n",
    "    for row in terrorism_Data:\n",
    "        year.append(row['Year'])\n",
    "        month.append(row['Month'])\n",
    "        day.append(row['Day'])\n",
    "        \n",
    "    year = np.array(year, dtype = int)\n",
    "    month = np.array(month, dtype = int)\n",
    "    day = np.array(day, dtype = int)\n",
    "    \n",
    "    bool_arr = (year == 2010) & (month == 1) & (day >= 1) & (day <= 31)\n",
    "    print(np.sum(bool_arr))"
   ]
  }
 ],
 "metadata": {
  "kernelspec": {
   "display_name": "Python 3 (ipykernel)",
   "language": "python",
   "name": "python3"
  },
  "language_info": {
   "codemirror_mode": {
    "name": "ipython",
    "version": 3
   },
   "file_extension": ".py",
   "mimetype": "text/x-python",
   "name": "python",
   "nbconvert_exporter": "python",
   "pygments_lexer": "ipython3",
   "version": "3.11.7"
  }
 },
 "nbformat": 4,
 "nbformat_minor": 5
}
