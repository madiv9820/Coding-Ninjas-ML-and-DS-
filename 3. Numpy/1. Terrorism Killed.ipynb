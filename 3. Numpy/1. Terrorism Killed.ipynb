{
 "cells": [
  {
   "cell_type": "markdown",
   "id": "b49258fe",
   "metadata": {},
   "source": [
    "Problem statement\n",
    "Given file \"terrorismData.csv\"\n",
    "\n",
    "It is an open-source database including information on terrorist attacks around the world from 1970 through 2017. This dataset includes systematic data on domestic as well as international terrorist incidents that have occurred during this time period\n",
    "\n",
    "Problem Statement :\n",
    "Find value of killed column only where country == ‘United States’?\n",
    "\n",
    "Print 0 in place of missing values.\n",
    "\n",
    "Print count of Killed as integer value.\n",
    "\n",
    "Output Format :\n",
    "Killed1\n",
    "Killed2\n",
    "Killed3\n",
    "Killed4\n",
    ". . .\n",
    ". . .\n",
    ". . ."
   ]
  },
  {
   "cell_type": "code",
   "execution_count": 2,
   "id": "5e6a7dbf",
   "metadata": {},
   "outputs": [
    {
     "ename": "ModuleNotFoundError",
     "evalue": "No module named 'numpy'",
     "output_type": "error",
     "traceback": [
      "\u001b[0;31m---------------------------------------------------------------------------\u001b[0m",
      "\u001b[0;31mModuleNotFoundError\u001b[0m                       Traceback (most recent call last)",
      "Cell \u001b[0;32mIn[2], line 2\u001b[0m\n\u001b[1;32m      1\u001b[0m \u001b[38;5;28;01mimport\u001b[39;00m \u001b[38;5;21;01mcsv\u001b[39;00m\n\u001b[0;32m----> 2\u001b[0m \u001b[38;5;28;01mimport\u001b[39;00m \u001b[38;5;21;01mnumpy\u001b[39;00m \u001b[38;5;28;01mas\u001b[39;00m \u001b[38;5;21;01mnp\u001b[39;00m\n\u001b[1;32m      4\u001b[0m \u001b[38;5;28;01mwith\u001b[39;00m \u001b[38;5;28mopen\u001b[39m(\u001b[38;5;124m'\u001b[39m\u001b[38;5;124mterrorismData.csv\u001b[39m\u001b[38;5;124m'\u001b[39m) \u001b[38;5;28;01mas\u001b[39;00m data:\n\u001b[1;32m      5\u001b[0m     terrorism_Data \u001b[38;5;241m=\u001b[39m csv\u001b[38;5;241m.\u001b[39mDictReader(data, skipinitialspace \u001b[38;5;241m=\u001b[39m \u001b[38;5;28;01mTrue\u001b[39;00m)\n",
      "\u001b[0;31mModuleNotFoundError\u001b[0m: No module named 'numpy'"
     ]
    }
   ],
   "source": [
    "import csv\n",
    "import numpy as np\n",
    "\n",
    "with open('terrorismData.csv') as data:\n",
    "    terrorism_Data = csv.DictReader(data, skipinitialspace = True)\n",
    "    country, killed = [], []\n",
    "    \n",
    "    for row in terrorism_Data:\n",
    "        country.append(row['Country'])\n",
    "        killed.append(row['Killed'])\n",
    "        \n",
    "    country = np.array(country)\n",
    "    \n",
    "    killed = np.array(killed)\n",
    "    killed[killed == ''] = '0.0'\n",
    "    killed = np.array(np.array(killed, dtype = float), dtype = int)\n",
    "    \n",
    "    print(np.sum(killed[country == 'United States']))"
   ]
  }
 ],
 "metadata": {
  "kernelspec": {
   "display_name": "Python 3 (ipykernel)",
   "language": "python",
   "name": "python3"
  },
  "language_info": {
   "codemirror_mode": {
    "name": "ipython",
    "version": 3
   },
   "file_extension": ".py",
   "mimetype": "text/x-python",
   "name": "python",
   "nbconvert_exporter": "python",
   "pygments_lexer": "ipython3",
   "version": "3.11.9"
  }
 },
 "nbformat": 4,
 "nbformat_minor": 5
}
