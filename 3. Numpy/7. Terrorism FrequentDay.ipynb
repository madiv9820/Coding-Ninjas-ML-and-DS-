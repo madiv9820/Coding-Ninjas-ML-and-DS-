{
 "cells": [
  {
   "cell_type": "raw",
   "id": "bb99668b",
   "metadata": {},
   "source": [
    "Problem statement\n",
    "Given file \"terrorismData.csv\"\n",
    "\n",
    "It is an open-source database including information on terrorist attacks around the world from 1970 through 2017. This dataset includes systematic data on domestic as well as international terrorist incidents that have occurred during this time period\n",
    "\n",
    "Problem Statement :\n",
    "Find the most frequent day of attack in a terrorismDataset ?\n",
    "\n",
    "Note: Here np.unique can be used.\n",
    "\n",
    "Print count of frequent day and number of attack as Integer value.\n",
    "\n",
    "Output Format :\n",
    "Day NumberOFAttack"
   ]
  },
  {
   "cell_type": "code",
   "execution_count": 7,
   "id": "51d5d72d",
   "metadata": {},
   "outputs": [
    {
     "name": "stdout",
     "output_type": "stream",
     "text": [
      "15 6500\n"
     ]
    }
   ],
   "source": [
    "import csv\n",
    "import numpy as np\n",
    "from collections import defaultdict\n",
    "\n",
    "with open('terrorismData.csv') as data:\n",
    "    terrorism_Data = csv.DictReader(data, skipinitialspace = True)\n",
    "    days = []\n",
    "    for row in terrorism_Data: days.append(row['Day'])\n",
    "    \n",
    "    day_Count = defaultdict(int)\n",
    "    for day in days: day_Count[day] += 1\n",
    "    \n",
    "    day_Count = list(day_Count.items())\n",
    "    day_Count.sort(reverse = True, key = lambda x: x[1])\n",
    "    print(day_Count[0][0], day_Count[0][1])"
   ]
  }
 ],
 "metadata": {
  "kernelspec": {
   "display_name": "Python 3 (ipykernel)",
   "language": "python",
   "name": "python3"
  },
  "language_info": {
   "codemirror_mode": {
    "name": "ipython",
    "version": 3
   },
   "file_extension": ".py",
   "mimetype": "text/x-python",
   "name": "python",
   "nbconvert_exporter": "python",
   "pygments_lexer": "ipython3",
   "version": "3.11.7"
  }
 },
 "nbformat": 4,
 "nbformat_minor": 5
}
