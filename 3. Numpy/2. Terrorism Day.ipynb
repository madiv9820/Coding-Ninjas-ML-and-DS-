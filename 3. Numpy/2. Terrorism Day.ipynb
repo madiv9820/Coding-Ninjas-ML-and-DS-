{
 "cells": [
  {
   "cell_type": "raw",
   "id": "f3ed8e78",
   "metadata": {},
   "source": [
    "Given file \"terrorismData.csv\"\n",
    "\n",
    "It is an open-source database including information on terrorist attacks around the world from 1970 through 2017. This dataset includes systematic data on domestic as well as international terrorist incidents that have occurred during this time period\n",
    "\n",
    "Problem Statement :\n",
    "Find the number of attack held between day 10 and day 20?(ignoring the year and month)(including both day)\n",
    "\n",
    "Print count of NumberOFAttack as integer value.\n",
    "\n",
    "Output Format :\n",
    "count "
   ]
  },
  {
   "cell_type": "code",
   "execution_count": 15,
   "id": "1de654e9",
   "metadata": {},
   "outputs": [
    {
     "name": "stdout",
     "output_type": "stream",
     "text": [
      "66330\n"
     ]
    }
   ],
   "source": [
    "import csv\n",
    "import numpy as np\n",
    "\n",
    "with open('terrorismData.csv') as data:\n",
    "    terrorism_Data = csv.DictReader(data, skipinitialspace = True)\n",
    "    day = []\n",
    "    for row in terrorism_Data: day.append(row['Day'])\n",
    "    day = np.array(day, dtype = int)\n",
    "    print(day[(day >= 10) & (day <= 20)].shape[0])"
   ]
  }
 ],
 "metadata": {
  "kernelspec": {
   "display_name": "Python 3 (ipykernel)",
   "language": "python",
   "name": "python3"
  },
  "language_info": {
   "codemirror_mode": {
    "name": "ipython",
    "version": 3
   },
   "file_extension": ".py",
   "mimetype": "text/x-python",
   "name": "python",
   "nbconvert_exporter": "python",
   "pygments_lexer": "ipython3",
   "version": "3.11.7"
  }
 },
 "nbformat": 4,
 "nbformat_minor": 5
}
