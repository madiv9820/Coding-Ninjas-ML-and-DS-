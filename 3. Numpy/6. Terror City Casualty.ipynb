{
 "cells": [
  {
   "cell_type": "markdown",
   "id": "87de31aa",
   "metadata": {},
   "source": [
    "Given file \"terrorismData.csv\"\n",
    "\n",
    "It is an open-source database including information on terrorist attacks around the world from 1970 through 2017. This dataset includes systematic data on domestic as well as international terrorist incidents that have occurred during this time period\n",
    "\n",
    "Problem Statement :\n",
    "Find top 5 Indian Cities which has most number of casualties ?\n",
    "\n",
    "Print top 5 cities along with total casualties in that city. Print count of Casualty as integer value.\n",
    "\n",
    "Note: Ignoring the City which is Unknown.\n",
    "\n",
    "Casualty = Killed + Wounded.\n",
    "\n",
    "Output Format :\n",
    "city_1 casualty_1\n",
    "city_2 casualty_2\n",
    "city_3 casualty_3\n",
    "city_4 casualty_4\n",
    "city_5 casualty_5"
   ]
  },
  {
   "cell_type": "code",
   "execution_count": 8,
   "id": "cf09e72b",
   "metadata": {},
   "outputs": [
    {
     "name": "stdout",
     "output_type": "stream",
     "text": [
      "Srinagar 3134\n",
      "New Delhi 2095\n",
      "Mumbai 2016\n",
      "Jammu 1119\n",
      "Guwahati 822\n"
     ]
    }
   ],
   "source": [
    "import csv\n",
    "import numpy as np\n",
    "from collections import defaultdict\n",
    "\n",
    "with open('terrorismData.csv') as data:\n",
    "    terrorism_Data = csv.DictReader(data, skipinitialspace = True)\n",
    "    cities, killed, wounded = [], [], []\n",
    "    \n",
    "    for row in terrorism_Data:\n",
    "        if row['Country'] == 'India' and row['City'] != 'Unknown':\n",
    "            cities.append(row['City'])\n",
    "            killed.append(row['Killed'])\n",
    "            wounded.append(row['Wounded'])\n",
    "    \n",
    "    cities = np.array(cities)\n",
    "    killed = np.array(killed)\n",
    "    wounded = np.array(wounded)\n",
    "    \n",
    "    killed[killed == ''] = '0.0'\n",
    "    wounded[wounded == ''] = '0.0'\n",
    "    \n",
    "    killed = np.array(np.array(killed, dtype = float), dtype = int)\n",
    "    wounded = np.array(np.array(wounded, dtype = float), dtype = int)\n",
    "    casualities = killed + wounded\n",
    "    \n",
    "    city_Wise_Casuality = defaultdict(int)\n",
    "    for city in cities: city_Wise_Casuality[city] = np.sum(casualities[cities == city])\n",
    "        \n",
    "    city_Wise = []\n",
    "    for city, casuality in city_Wise_Casuality.items(): city_Wise.append((casuality, city))\n",
    "    \n",
    "    city_Wise.sort(reverse = True)\n",
    "    for casuality, city in city_Wise[:5]: print(city, casuality)"
   ]
  }
 ],
 "metadata": {
  "kernelspec": {
   "display_name": "Python 3 (ipykernel)",
   "language": "python",
   "name": "python3"
  },
  "language_info": {
   "codemirror_mode": {
    "name": "ipython",
    "version": 3
   },
   "file_extension": ".py",
   "mimetype": "text/x-python",
   "name": "python",
   "nbconvert_exporter": "python",
   "pygments_lexer": "ipython3",
   "version": "3.11.7"
  }
 },
 "nbformat": 4,
 "nbformat_minor": 5
}
