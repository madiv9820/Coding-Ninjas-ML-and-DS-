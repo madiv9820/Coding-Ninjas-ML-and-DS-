{
 "cells": [
  {
   "cell_type": "markdown",
   "id": "916eea82",
   "metadata": {},
   "source": [
    "Given file \"terrorismData.csv\"\n",
    "\n",
    "It is an open-source database including information on terrorist attacks around the world from 1970 through 2017. This dataset includes systematic data on domestic as well as international terrorist incidents that have occurred during this time period\n",
    "Problem Statement :\n",
    "\n",
    "There was formation of new government in India on 26 May 2014. So current government's span is from 26th May 2014 to current. Find out two things from this period-\n",
    "\n",
    "1. Total number of attacks done in this period in India. Find this count as integer.\n",
    "2. Which Terrorist group was most active in this period in India. Most active means, group which has done maximum number of attacks. \n",
    "3.Ignore the Unknown group. \n",
    "\n",
    "Output Format :\n",
    "\n",
    "TotalAttacks MostActiveTerroristGroup"
   ]
  },
  {
   "cell_type": "code",
   "execution_count": 6,
   "id": "e97eddef",
   "metadata": {},
   "outputs": [
    {
     "name": "stdout",
     "output_type": "stream",
     "text": [
      "3336 Maoists\n"
     ]
    }
   ],
   "source": [
    "import numpy as np\n",
    "import pandas as pd\n",
    "\n",
    "dataframe = pd.read_csv('terrorismData.csv', skipinitialspace = True)\n",
    "condition = ((dataframe.Country == 'India') & \n",
    "             ((((dataframe.Day >= 26) & (dataframe.Month == 5) & (dataframe.Year == 2014)) |\n",
    "             ((dataframe.Month > 5) & (dataframe.Year == 2014))) | (dataframe.Year >= 2015))\n",
    "            )\n",
    "\n",
    "data_For_India = dataframe[condition]\n",
    "\n",
    "total_No_Of_Attacks = data_For_India.shape[0]\n",
    "terrorist_Group = data_For_India.Group[data_For_India.Group != 'Unknown']\n",
    "most_Active_Terrorist_Group = terrorist_Group.value_counts().index[0]\n",
    "\n",
    "print(total_No_Of_Attacks, most_Active_Terrorist_Group)"
   ]
  }
 ],
 "metadata": {
  "kernelspec": {
   "display_name": "Python 3 (ipykernel)",
   "language": "python",
   "name": "python3"
  },
  "language_info": {
   "codemirror_mode": {
    "name": "ipython",
    "version": 3
   },
   "file_extension": ".py",
   "mimetype": "text/x-python",
   "name": "python",
   "nbconvert_exporter": "python",
   "pygments_lexer": "ipython3",
   "version": "3.11.7"
  }
 },
 "nbformat": 4,
 "nbformat_minor": 5
}
