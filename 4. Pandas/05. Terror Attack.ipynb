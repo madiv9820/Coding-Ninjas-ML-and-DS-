{
 "cells": [
  {
   "cell_type": "markdown",
   "id": "32eef9ad",
   "metadata": {},
   "source": [
    "Problem statement\n",
    "\n",
    "Given file \"terrorismData.csv\"\n",
    "\n",
    "It is an open-source database including information on terrorist attacks around the world from 1970 through 2017. This dataset includes systematic data on domestic as well as international terrorist incidents that have occurred during this time period\n",
    "Problem Statement :\n",
    "\n",
    "Find out the Country with Highest Number of Terror Attack and in which year the most number of terrorist attack happened in that country ?\n",
    "\n",
    "Print count of terror attacks as integer value.\n",
    "Output Format :\n",
    "\n",
    "Country NumberOfAttack Year"
   ]
  },
  {
   "cell_type": "code",
   "execution_count": 2,
   "id": "9a44df78",
   "metadata": {},
   "outputs": [
    {
     "name": "stdout",
     "output_type": "stream",
     "text": [
      "Iraq 24636 2014\n"
     ]
    }
   ],
   "source": [
    "import numpy as np\n",
    "import pandas as pd\n",
    "\n",
    "dataframe = pd.read_csv('terrorismData.csv', skipinitialspace = True)\n",
    "country_Wise_Attacks = dataframe.Country.value_counts()\n",
    "\n",
    "most_Attacked_Country = country_Wise_Attacks.index[0]\n",
    "most_No_Of_Attacks = country_Wise_Attacks.values[0]\n",
    "most_Attacked_Year = dataframe.Year[dataframe.Country == most_Attacked_Country].value_counts().index[0]\n",
    "\n",
    "print(most_Attacked_Country, most_No_Of_Attacks, most_Attacked_Year)"
   ]
  }
 ],
 "metadata": {
  "kernelspec": {
   "display_name": "Python 3 (ipykernel)",
   "language": "python",
   "name": "python3"
  },
  "language_info": {
   "codemirror_mode": {
    "name": "ipython",
    "version": 3
   },
   "file_extension": ".py",
   "mimetype": "text/x-python",
   "name": "python",
   "nbconvert_exporter": "python",
   "pygments_lexer": "ipython3",
   "version": "3.11.7"
  }
 },
 "nbformat": 4,
 "nbformat_minor": 5
}
