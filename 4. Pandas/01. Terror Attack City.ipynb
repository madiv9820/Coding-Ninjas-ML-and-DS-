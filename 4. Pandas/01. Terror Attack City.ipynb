{
 "cells": [
  {
   "cell_type": "markdown",
   "id": "210090fd",
   "metadata": {},
   "source": [
    " Problem statement\n",
    "\n",
    "Given file \"terrorismData.csv\"\n",
    "\n",
    "It is an open-source database including information on terrorist attacks around the world from 1970 through 2017. This dataset includes systematic data on domestic as well as international terrorist incidents that have occurred during this time period\n",
    "Problem Statement :\n",
    "\n",
    "The Most Dangerous city in Jammu and Kashmir and the terrorist group which is most active in that city?\n",
    "\n",
    "Print count of number of attacks in that city as integer value.\n",
    "\n",
    "Note:Ignoring the Unknown Terrorist Group.Here Dangerous related with the number of terrorist attacks.\n",
    "Output Format :\n",
    "\n",
    "City NumberOfAttack Group"
   ]
  },
  {
   "cell_type": "code",
   "execution_count": 5,
   "id": "58ffbf5d",
   "metadata": {},
   "outputs": [
    {
     "name": "stdout",
     "output_type": "stream",
     "text": [
      "Srinagar 657 Muslim Separatists\n"
     ]
    }
   ],
   "source": [
    "import numpy as np\n",
    "import pandas as pd\n",
    "from collections import defaultdict, Counter\n",
    "\n",
    "terrorism_Data = pd.read_csv('terrorismData.csv', skipinitialspace = True)\n",
    "terrorism_Data= terrorism_Data[terrorism_Data.State == 'Jammu and Kashmir'] \n",
    "\n",
    "cities = terrorism_Data.City\n",
    "groups = terrorism_Data.Group\n",
    "\n",
    "city_Wise_Attacks = cities.value_counts()\n",
    "\n",
    "most_Attacked_City = city_Wise_Attacks.index[0]\n",
    "no_of_Attacks = city_Wise_Attacks.values[0]\n",
    "\n",
    "city_Wise_Group = groups[(groups != 'Unknown') & (cities == most_Attacked_City)].value_counts()\n",
    "most_Attacking_Group = city_Wise_Group.index[0]\n",
    "\n",
    "print(most_Attacked_City, no_of_Attacks, most_Attacking_Group)"
   ]
  }
 ],
 "metadata": {
  "kernelspec": {
   "display_name": "Python 3 (ipykernel)",
   "language": "python",
   "name": "python3"
  },
  "language_info": {
   "codemirror_mode": {
    "name": "ipython",
    "version": 3
   },
   "file_extension": ".py",
   "mimetype": "text/x-python",
   "name": "python",
   "nbconvert_exporter": "python",
   "pygments_lexer": "ipython3",
   "version": "3.11.7"
  }
 },
 "nbformat": 4,
 "nbformat_minor": 5
}
