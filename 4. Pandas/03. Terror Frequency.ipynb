{
 "cells": [
  {
   "cell_type": "markdown",
   "id": "66e43918",
   "metadata": {},
   "source": [
    "Problem statement\n",
    "\n",
    "Given file \"terrorismData.csv\"\n",
    "\n",
    "It is an open-source database including information on terrorist attacks around the world from 1970 through 2017. This dataset includes systematic data on domestic as well as international terrorist incidents that have occurred during this time period\n",
    "Problem Statement :\n",
    "\n",
    "Find the frequency of the Casualty in Red Corridor states and in Jammu and Kashmir ?Here Frequency is (Total Casualty/Total Number of a year)\n",
    "\n",
    "Print frequency as integer value.\n",
    "\n",
    "Note:Red Corridor state includes Jharkhand, Odisha, Andhra Pradesh, and Chhattisgarh. Here Casualty=Killed +Wounded.Don't fill the nan value present in Killed and Wounded feature.\n",
    "Output Format :\n",
    "\n",
    "Frequency1 Frequency2 "
   ]
  },
  {
   "cell_type": "code",
   "execution_count": 16,
   "id": "64ad7ba1",
   "metadata": {},
   "outputs": [
    {
     "name": "stdout",
     "output_type": "stream",
     "text": [
      "115 261\n"
     ]
    }
   ],
   "source": [
    "import numpy as np\n",
    "import pandas as pd\n",
    "\n",
    "dataframe = pd.read_csv('terrorismData.csv', skipinitialspace = True)\n",
    "no_of_years = len(np.unique(dataframe.Year))\n",
    "\n",
    "red_Corridor_Condition = ((dataframe.State == 'Jharkhand') | (dataframe.State == 'Odisha') | \n",
    "             (dataframe.State == 'Andhra Pradesh') | (dataframe.State == 'Chhattisgarh'))\n",
    "jk_Condition = (dataframe.State == 'Jammu and Kashmir')\n",
    "\n",
    "df_JK = dataframe[jk_Condition]\n",
    "df_red_Corridor = dataframe[red_Corridor_Condition]\n",
    "\n",
    "casuality_JK = int(np.sum(df_JK.Killed + df_JK.Wounded))\n",
    "casuality_red_Corridor = int(np.sum(df_red_Corridor.Killed + df_red_Corridor.Wounded))\n",
    "\n",
    "print(casuality_red_Corridor // no_of_years, casuality_JK // no_of_years)"
   ]
  }
 ],
 "metadata": {
  "kernelspec": {
   "display_name": "Python 3 (ipykernel)",
   "language": "python",
   "name": "python3"
  },
  "language_info": {
   "codemirror_mode": {
    "name": "ipython",
    "version": 3
   },
   "file_extension": ".py",
   "mimetype": "text/x-python",
   "name": "python",
   "nbconvert_exporter": "python",
   "pygments_lexer": "ipython3",
   "version": "3.11.7"
  }
 },
 "nbformat": 4,
 "nbformat_minor": 5
}
