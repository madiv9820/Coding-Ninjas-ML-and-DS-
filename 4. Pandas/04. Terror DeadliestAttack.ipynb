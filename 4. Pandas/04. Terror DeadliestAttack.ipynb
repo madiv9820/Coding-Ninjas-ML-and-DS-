{
 "cells": [
  {
   "cell_type": "markdown",
   "id": "4f5c46af",
   "metadata": {},
   "source": [
    "Given file \"terrorismData.csv\"\n",
    "\n",
    "It is an open-source database including information on terrorist attacks around the world from 1970 through 2017. This dataset includes systematic data on domestic as well as international terrorist incidents that have occurred during this time period\n",
    "Problem Statement :\n",
    "\n",
    "Most Deadliest attack in a history of HumanKind?\n",
    "\n",
    "Print count of Killed people as integer value.\n",
    "\n",
    "Note: Here Deadliest attack means, in which the most number of people killed.\n",
    "Output Format :\n",
    "\n",
    "NumberOfPeopleKilled Country TerroristGroup"
   ]
  },
  {
   "cell_type": "code",
   "execution_count": 7,
   "id": "16665113",
   "metadata": {},
   "outputs": [
    {
     "name": "stdout",
     "output_type": "stream",
     "text": [
      "1570 Iraq Islamic State of Iraq and the Levant (ISIL)\n"
     ]
    }
   ],
   "source": [
    "import numpy as np\n",
    "import pandas as pd\n",
    "\n",
    "dataframe = pd.read_csv('terrorismData.csv', skipinitialspace = True)\n",
    "most_killed = int(np.max(dataframe.Killed))\n",
    "country = dataframe.Country[dataframe.Killed == most_killed].values[0]\n",
    "group = dataframe.Group[dataframe.Killed == most_killed].values[0]\n",
    "\n",
    "print(most_killed, country, group)"
   ]
  }
 ],
 "metadata": {
  "kernelspec": {
   "display_name": "Python 3 (ipykernel)",
   "language": "python",
   "name": "python3"
  },
  "language_info": {
   "codemirror_mode": {
    "name": "ipython",
    "version": 3
   },
   "file_extension": ".py",
   "mimetype": "text/x-python",
   "name": "python",
   "nbconvert_exporter": "python",
   "pygments_lexer": "ipython3",
   "version": "3.11.7"
  }
 },
 "nbformat": 4,
 "nbformat_minor": 5
}
